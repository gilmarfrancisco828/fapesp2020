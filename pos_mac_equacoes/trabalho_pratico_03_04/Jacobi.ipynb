{
 "cells": [
  {
   "cell_type": "code",
   "execution_count": 1,
   "metadata": {},
   "outputs": [],
   "source": [
    "from __future__ import division  \n",
    "import numpy as np  \n",
    "from numpy import linalg\n",
    "from matplotlib import pyplot as plt\n",
    "import seaborn as sns; sns.set()\n",
    "from metodos import *\n",
    "%matplotlib inline"
   ]
  },
  {
   "cell_type": "code",
   "execution_count": 2,
   "metadata": {},
   "outputs": [],
   "source": [
    "MAX_ITE = 2000\n",
    "a = -4\n",
    "b = 1\n",
    "c = 1\n",
    "h = k = 0.25\n",
    "M = N = 4\n",
    "\n",
    "# h = k = 0.05\n",
    "# M = N = 20\n",
    "\n",
    "# h = k = 0.025\n",
    "# M = N = 40\n",
    "\n",
    "# np.diag(a*np.ones((N-1)*(M-1)), k=0)\n",
    "A = np.zeros(((N-1) * (M-1), (N-1) * (M-1)))\n",
    "ii = 0\n",
    "for i in range(1, N):\n",
    "    for j in range(1, M):\n",
    "        if i+1 != N:\n",
    "            A[ii][((i)*(N-1)) + j-1] = 1\n",
    "        if i-1 != 0:\n",
    "            A[ii][((i-2)*(N-1)) + j-1] = 1\n",
    "        A[ii][(i-1)*(N-1) + j-1] = a\n",
    "        if j+1 != M:\n",
    "            A[ii][((i-1)*(N-1)) + j] = 1\n",
    "        if j-1 != 0:\n",
    "            A[ii][((i-1)*(N-1)) + j - 2] = 1\n",
    "        ii += 1\n",
    "    "
   ]
  },
  {
   "cell_type": "code",
   "execution_count": 3,
   "metadata": {},
   "outputs": [
    {
     "name": "stdout",
     "output_type": "stream",
     "text": [
      "[[-4.  1.  0.  1.  0.  0.  0.  0.  0.]\n",
      " [ 1. -4.  1.  0.  1.  0.  0.  0.  0.]\n",
      " [ 0.  1. -4.  0.  0.  1.  0.  0.  0.]\n",
      " [ 1.  0.  0. -4.  1.  0.  1.  0.  0.]\n",
      " [ 0.  1.  0.  1. -4.  1.  0.  1.  0.]\n",
      " [ 0.  0.  1.  0.  1. -4.  0.  0.  1.]\n",
      " [ 0.  0.  0.  1.  0.  0. -4.  1.  0.]\n",
      " [ 0.  0.  0.  0.  1.  0.  1. -4.  1.]\n",
      " [ 0.  0.  0.  0.  0.  1.  0.  1. -4.]]\n"
     ]
    }
   ],
   "source": [
    "# for i in range(len(A)):\n",
    "#     for j in range(len(A)):\n",
    "#         print(int(A[i,j]), end='\\t&\\t')\n",
    "#     print(\"\\\\\\\\\")\n",
    "print(A)"
   ]
  },
  {
   "cell_type": "code",
   "execution_count": 4,
   "metadata": {},
   "outputs": [
    {
     "name": "stdout",
     "output_type": "stream",
     "text": [
      "[[0.]\n",
      " [0.]\n",
      " [0.]\n",
      " [0.]\n",
      " [0.]\n",
      " [0.]\n",
      " [0.]\n",
      " [0.]\n",
      " [0.]]\n"
     ]
    }
   ],
   "source": [
    "U = np.zeros(((N-1) * (M-1),1))\n",
    "# for i in range(1, N):\n",
    "#     for j in range(1, M):\n",
    "#         print(\"U_{\"+str(i)+\",\"+str(j)+\"}\\\\\\\\\")\n",
    "    \n",
    "print(U)"
   ]
  },
  {
   "cell_type": "code",
   "execution_count": 5,
   "metadata": {},
   "outputs": [
    {
     "name": "stdout",
     "output_type": "stream",
     "text": [
      "0\n",
      "1\n",
      "2\n",
      "3\n",
      "4\n",
      "5\n",
      "6\n",
      "7\n",
      "8\n"
     ]
    }
   ],
   "source": [
    "r = np.zeros(((N-1) * (M-1), 1))\n",
    "ii = 0\n",
    "for i in range(1, N):\n",
    "    for j in range(1, M):\n",
    "        if i+1 == N:\n",
    "            r[ii][0] -= 100\n",
    "        if i-1 == 0:\n",
    "            r[ii][0] -= 75\n",
    "        if j+1 == M:\n",
    "            r[ii][0] -= 0\n",
    "        if j-1 == 0:\n",
    "            r[ii][0] -= 50\n",
    "        print(ii)\n",
    "        ii += 1"
   ]
  },
  {
   "cell_type": "code",
   "execution_count": 6,
   "metadata": {},
   "outputs": [
    {
     "name": "stdout",
     "output_type": "stream",
     "text": [
      "-125\\\\\n",
      "-75\\\\\n",
      "-75\\\\\n",
      "-50\\\\\n",
      "0\\\\\n",
      "0\\\\\n",
      "-150\\\\\n",
      "-100\\\\\n",
      "-100\\\\\n",
      "[[-125.]\n",
      " [ -75.]\n",
      " [ -75.]\n",
      " [ -50.]\n",
      " [   0.]\n",
      " [   0.]\n",
      " [-150.]\n",
      " [-100.]\n",
      " [-100.]]\n"
     ]
    }
   ],
   "source": [
    "for j in range(len(r)):\n",
    "    print(str(int(r[j][0]))+\"\\\\\\\\\")\n",
    "    \n",
    "print(r)"
   ]
  },
  {
   "cell_type": "code",
   "execution_count": 7,
   "metadata": {},
   "outputs": [
    {
     "name": "stdout",
     "output_type": "stream",
     "text": [
      "[[-4.  0.  0.  0.  0.  0.  0.  0.  0.]\n",
      " [ 0. -4.  0.  0.  0.  0.  0.  0.  0.]\n",
      " [ 0.  0. -4.  0.  0.  0.  0.  0.  0.]\n",
      " [ 0.  0.  0. -4.  0.  0.  0.  0.  0.]\n",
      " [ 0.  0.  0.  0. -4.  0.  0.  0.  0.]\n",
      " [ 0.  0.  0.  0.  0. -4.  0.  0.  0.]\n",
      " [ 0.  0.  0.  0.  0.  0. -4.  0.  0.]\n",
      " [ 0.  0.  0.  0.  0.  0.  0. -4.  0.]\n",
      " [ 0.  0.  0.  0.  0.  0.  0.  0. -4.]]\n"
     ]
    }
   ],
   "source": [
    "D = np.diag(np.diag(A))\n",
    "print(D)"
   ]
  },
  {
   "cell_type": "code",
   "execution_count": 8,
   "metadata": {},
   "outputs": [
    {
     "name": "stdout",
     "output_type": "stream",
     "text": [
      "[[0. 1. 0. 1. 0. 0. 0. 0. 0.]\n",
      " [0. 0. 1. 0. 1. 0. 0. 0. 0.]\n",
      " [0. 0. 0. 0. 0. 1. 0. 0. 0.]\n",
      " [0. 0. 0. 0. 1. 0. 1. 0. 0.]\n",
      " [0. 0. 0. 0. 0. 1. 0. 1. 0.]\n",
      " [0. 0. 0. 0. 0. 0. 0. 0. 1.]\n",
      " [0. 0. 0. 0. 0. 0. 0. 1. 0.]\n",
      " [0. 0. 0. 0. 0. 0. 0. 0. 1.]\n",
      " [0. 0. 0. 0. 0. 0. 0. 0. 0.]]\n"
     ]
    }
   ],
   "source": [
    "S = np.triu(A, k=1)\n",
    "print(S)"
   ]
  },
  {
   "cell_type": "code",
   "execution_count": 9,
   "metadata": {},
   "outputs": [
    {
     "name": "stdout",
     "output_type": "stream",
     "text": [
      "[[0. 0. 0. 0. 0. 0. 0. 0. 0.]\n",
      " [1. 0. 0. 0. 0. 0. 0. 0. 0.]\n",
      " [0. 1. 0. 0. 0. 0. 0. 0. 0.]\n",
      " [1. 0. 0. 0. 0. 0. 0. 0. 0.]\n",
      " [0. 1. 0. 1. 0. 0. 0. 0. 0.]\n",
      " [0. 0. 1. 0. 1. 0. 0. 0. 0.]\n",
      " [0. 0. 0. 1. 0. 0. 0. 0. 0.]\n",
      " [0. 0. 0. 0. 1. 0. 1. 0. 0.]\n",
      " [0. 0. 0. 0. 0. 1. 0. 1. 0.]]\n"
     ]
    }
   ],
   "source": [
    "L = np.tril(A, k=-1)\n",
    "print(L)"
   ]
  },
  {
   "cell_type": "code",
   "execution_count": 10,
   "metadata": {},
   "outputs": [
    {
     "name": "stdout",
     "output_type": "stream",
     "text": [
      "[[-0.25 -0.   -0.   -0.   -0.   -0.   -0.   -0.   -0.  ]\n",
      " [-0.   -0.25 -0.   -0.   -0.   -0.   -0.   -0.   -0.  ]\n",
      " [-0.   -0.   -0.25 -0.   -0.   -0.   -0.   -0.   -0.  ]\n",
      " [-0.   -0.   -0.   -0.25 -0.   -0.   -0.   -0.   -0.  ]\n",
      " [-0.   -0.   -0.   -0.   -0.25 -0.   -0.   -0.   -0.  ]\n",
      " [-0.   -0.   -0.   -0.   -0.   -0.25 -0.   -0.   -0.  ]\n",
      " [-0.   -0.   -0.   -0.   -0.   -0.   -0.25 -0.   -0.  ]\n",
      " [-0.   -0.   -0.   -0.   -0.   -0.   -0.   -0.25 -0.  ]\n",
      " [-0.   -0.   -0.   -0.   -0.   -0.   -0.   -0.   -0.25]]\n"
     ]
    }
   ],
   "source": [
    "Di = np.linalg.inv(D)\n",
    "print(Di)"
   ]
  },
  {
   "cell_type": "code",
   "execution_count": 11,
   "metadata": {},
   "outputs": [
    {
     "name": "stdout",
     "output_type": "stream",
     "text": [
      "[[0.]\n",
      " [0.]\n",
      " [0.]\n",
      " [0.]\n",
      " [0.]\n",
      " [0.]\n",
      " [0.]\n",
      " [0.]\n",
      " [0.]]\n"
     ]
    }
   ],
   "source": [
    "Uold = U.copy()\n",
    "print(Uold)"
   ]
  },
  {
   "cell_type": "code",
   "execution_count": null,
   "metadata": {},
   "outputs": [],
   "source": []
  },
  {
   "cell_type": "code",
   "execution_count": 12,
   "metadata": {},
   "outputs": [],
   "source": [
    "def gera_res(U, M, N):\n",
    "    u = np.zeros((M+1, N+1))\n",
    "    for j in range(M, -1, -1):\n",
    "        for i in range(0, N+1):\n",
    "            if (i == 0 and j == M) or (i == 0 and j == 0) or (i == N and j == M) or (i == N and j == 0):\n",
    "                continue\n",
    "            if j == M:\n",
    "                u[j][i] = 0\n",
    "            elif j == 0:\n",
    "                u[j][i] = 50\n",
    "            elif i == 0:\n",
    "                u[j][i] = 75\n",
    "            elif i == N:\n",
    "                u[j][i] = 100\n",
    "            else:\n",
    "                u[j][i] = U[(i-1)*(N-1) + j-1][0]\n",
    "    return u\n",
    "def print_tabela(U, M, N):\n",
    "    for j in range(M, -1, -1):\n",
    "        for i in range(0, N+1):\n",
    "            if (i == 0 and j == M) or (i == 0 and j == 0) or (i == N and j == M) or (i == N and j == 0):\n",
    "                print(\"       \", end=' &\\t')\n",
    "                continue\n",
    "            if j == M:\n",
    "                print(\"\", 0, \"     \", end='&\\t')\n",
    "            elif j == 0:\n",
    "                print(\"{:.1f}\".format(50), end='\\t&\\t')\n",
    "            elif i == 0:\n",
    "                print(\"{:.1f}\".format(75), end='\\t&\\t')\n",
    "            elif i == N:\n",
    "                print(\"{:.1f}\".format(100), end='')\n",
    "            else:\n",
    "    #             print(\"ij:\", i, j, \"\\n\")\n",
    "                print(\"{:.4f}\".format(U[(i-1)*(N-1) + j-1][0]), end='\\t&\\t')\n",
    "        print(\"\\\\\\\\\")\n",
    "\n",
    "# def print_res(u, M, N, h, k, metodo=\"\"):\n",
    "#     x_ticks = np.linspace(0, 1, int(1/h + 1))\n",
    "#     y_ticks = np.linspace(0, 1, int(1/k + 1))\n",
    "#     title = 'Solução Numérica '+ metodo + ' h=' + str(h) + ' k=' + str(k)\n",
    "#     plt.figure(dpi=200, figsize=(6, 6))\n",
    "#     plt.title(title)\n",
    "#     text = [ [ None for y in range( N+1 ) ] for x in range( M+1 ) ] \n",
    "#     for i in range(N+1):\n",
    "#         for j in range(M+1):\n",
    "#             text[i][j] = r\"$U_{\"+i+\",\"+j\"}$\"\n",
    "#     ax = sns.heatmap(u, cmap='jet', annot=text, fmt ='', cbar_kws={'label': 'Temperatura (ºC)'})\n",
    "#     ax.set_xticklabels(y_ticks)\n",
    "#     ax.set_yticklabels(y_ticks)\n",
    "#     ax.invert_yaxis()\n",
    "#     plt.show()\n"
   ]
  },
  {
   "cell_type": "code",
   "execution_count": 13,
   "metadata": {},
   "outputs": [],
   "source": [
    "# print(\"Jacobi\")\n",
    "# Ur, ite, error, tempo = jacobi(S, D, L, r, U, 1e-3, MAX_ITE)\n",
    "# # print_tabela(Ur, M, N)\n",
    "# # print(Ur)\n",
    "# print(\"Iterações: \", ite)\n",
    "# print(\"Erro: \", error)\n",
    "# print(\"Tempo: \", tempo)\n",
    "# res = gera_res(Ur, M, N)\n"
   ]
  },
  {
   "cell_type": "code",
   "execution_count": 14,
   "metadata": {},
   "outputs": [],
   "source": [
    "# print_res(res, M, N, 0, 1, 1, h, k, metodo=\"M. de Jacobi\", print_annot=False)"
   ]
  },
  {
   "cell_type": "code",
   "execution_count": 15,
   "metadata": {},
   "outputs": [],
   "source": [
    "# print(\"Gauss-Seidel:\")\n",
    "# Ur, ite, error, tempo = gauss_seidel(S, D, L, r, U, 1e-3, MAX_ITE)\n",
    "# # print_tabela(Ur, M, N)\n",
    "# # print(Ur)\n",
    "# print(\"Iterações: \", ite)\n",
    "# print(\"Erro: \", error)\n",
    "# print(\"Tempo: \", tempo)\n",
    "# # res = gera_res(Ur, M, N)\n",
    "# # # print_res(res, M, N, 0, 1, 1, h, k,  metodo=\"M. de Gauss-Seidel\", print_annot=False)"
   ]
  },
  {
   "cell_type": "code",
   "execution_count": 16,
   "metadata": {
    "scrolled": true
   },
   "outputs": [
    {
     "name": "stdout",
     "output_type": "stream",
     "text": [
      "[[ 0.   -0.25  0.   -0.25  0.    0.    0.    0.    0.  ]\n",
      " [-0.25  0.   -0.25  0.   -0.25  0.    0.    0.    0.  ]\n",
      " [ 0.   -0.25  0.    0.    0.   -0.25  0.    0.    0.  ]\n",
      " [-0.25  0.    0.    0.   -0.25  0.   -0.25  0.    0.  ]\n",
      " [ 0.   -0.25  0.   -0.25  0.   -0.25  0.   -0.25  0.  ]\n",
      " [ 0.    0.   -0.25  0.   -0.25  0.    0.    0.   -0.25]\n",
      " [ 0.    0.    0.   -0.25  0.    0.    0.   -0.25  0.  ]\n",
      " [ 0.    0.    0.    0.   -0.25  0.   -0.25  0.   -0.25]\n",
      " [ 0.    0.    0.    0.    0.   -0.25  0.   -0.25  0.  ]]\n",
      "1.1715728752538095\n",
      "1.1715728752538097\n",
      "SOR:\n",
      "Iterações Ótimo:  10\n",
      "Erro:  0.0007715394512477932\n",
      "Tempo:  0.0025947093963623047\n"
     ]
    }
   ],
   "source": [
    "print(np.dot(Di, L+S))\n",
    "rho = np.max(np.linalg.eigvalsh(np.dot(Di, L+S)))\n",
    "w = 1 + (rho/(1+np.sqrt(1-rho**2)))**2 \n",
    "print(w)\n",
    "w = 2/(1+np.sqrt(1-rho**2)) \n",
    "print(w)\n",
    "\n",
    "print(\"SOR:\")\n",
    "Ur, ite, error, tempo = SOR(S, D, L, r, U, w, 1e-3, MAX_ITE)\n",
    "# print_tabela(Ur, M, N)\n",
    "# print(Ur)\n",
    "print(\"Iterações Ótimo: \", ite)\n",
    "print(\"Erro: \", error)\n",
    "print(\"Tempo: \", tempo)\n",
    "\n",
    "res = gera_res(Ur, M, N)\n",
    "# print_res(res, M, N, 0, 1, 1, k, h,  metodo=\"M. SOR\", print_annot=False)"
   ]
  },
  {
   "cell_type": "code",
   "execution_count": 24,
   "metadata": {},
   "outputs": [
    {
     "name": "stdout",
     "output_type": "stream",
     "text": [
      "Iterações: 10 - w: 1.1715728752538095: \n",
      "Iterações: 1 - w: 0.0: \n",
      "Erro:  0.0\n",
      "Iterações: 143 - w: 0.2: \n",
      "Erro:  0.0009864706625642469\n",
      "Iterações: 69 - w: 0.4: \n",
      "Erro:  0.0009877536087695368\n",
      "Iterações: 43 - w: 0.6000000000000001: \n",
      "Erro:  0.0007763641124537473\n",
      "Iterações: 28 - w: 0.8: \n",
      "Erro:  0.0008124060322300669\n",
      "Iterações: 18 - w: 1.0: \n",
      "Erro:  0.0008717179295661342\n",
      "Iterações: 10 - w: 1.2000000000000002: \n",
      "Erro:  0.00032735738632502445\n",
      "Iterações: 15 - w: 1.4000000000000001: \n",
      "Erro:  0.0006718974698619511\n",
      "Iterações: 25 - w: 1.6: \n",
      "Erro:  0.0008780434232738431\n",
      "Iterações: 55 - w: 1.8: \n",
      "Erro:  0.00081770078758867\n",
      "Iterações: 2000 - w: 2.0: \n",
      "Erro:  269.45660748053825\n"
     ]
    }
   ],
   "source": [
    "def array_to_bmatrix(array):\n",
    "    begin = '\\\\begin{bmatrix} \\n'\n",
    "    data = ''\n",
    "    for line in array:        \n",
    "        if line.size == 1:\n",
    "            if line == 0:\n",
    "                data = data + ' &'\n",
    "            else:\n",
    "                data = data + ' %.2f &'%line\n",
    "            data = data + r' \\\\'\n",
    "            data = data + '\\n'\n",
    "            continue\n",
    "        for element in line:\n",
    "            if element == 0:\n",
    "                data = data + ' &'\n",
    "            else:\n",
    "                data = data + ' %.2f &'%element\n",
    "\n",
    "        data = data + r' \\\\'\n",
    "        data = data + '\\n'\n",
    "    end = '\\end{bmatrix}'\n",
    "    print(begin + data + end)\n",
    "\n",
    "\n",
    "\n",
    "J_t = np.dot(Di, L+S)\n",
    "# array_to_bmatrix(J_t)\n",
    "# plt.figure(figsize=(12,12))\n",
    "# plt.title(\"Matriz de iteração $G_J$\")\n",
    "# plt.spy(J_t, markersize = 5) \n",
    "# plt.show()\n",
    "autovalores = np.linalg.eigvalsh(J_t)\n",
    "# array_to_bmatrix(autovalores)\n",
    "# print(autovalores)\n",
    "rho = np.max(autovalores)\n",
    "# print(rho)\n",
    "w = 1 + (rho/(1+np.sqrt(1-rho**2)))**2 \n",
    "# print(w)\n",
    "# w = 2/(1+np.sqrt(1-rho**2)) \n",
    "# print(w)\n",
    "Ur, ite, error, tempo = SOR(S, D, L, r, U, w, 1e-3, MAX_ITE)\n",
    "print(\"Iterações: {} - w: {}: \".format(ite, w))\n",
    "ws = np.linspace(0,2, int(2/0.2)+1)\n",
    "\n",
    "for w in ws[:]:\n",
    "    Ur, ite, error, tempo = SOR(S, D, L, r, U, w, 1e-3, MAX_ITE)\n",
    "    print(\"Iterações: {} - w: {}: \".format(ite, w))\n",
    "    print(\"Erro: \", error)\n"
   ]
  },
  {
   "cell_type": "code",
   "execution_count": null,
   "metadata": {},
   "outputs": [],
   "source": []
  },
  {
   "cell_type": "code",
   "execution_count": null,
   "metadata": {},
   "outputs": [],
   "source": []
  },
  {
   "cell_type": "code",
   "execution_count": null,
   "metadata": {},
   "outputs": [],
   "source": []
  },
  {
   "cell_type": "code",
   "execution_count": null,
   "metadata": {},
   "outputs": [],
   "source": []
  },
  {
   "cell_type": "code",
   "execution_count": null,
   "metadata": {},
   "outputs": [],
   "source": []
  },
  {
   "cell_type": "code",
   "execution_count": null,
   "metadata": {},
   "outputs": [],
   "source": []
  },
  {
   "cell_type": "code",
   "execution_count": null,
   "metadata": {},
   "outputs": [],
   "source": []
  }
 ],
 "metadata": {
  "kernelspec": {
   "display_name": "Python 3",
   "language": "python",
   "name": "python3"
  },
  "language_info": {
   "codemirror_mode": {
    "name": "ipython",
    "version": 3
   },
   "file_extension": ".py",
   "mimetype": "text/x-python",
   "name": "python",
   "nbconvert_exporter": "python",
   "pygments_lexer": "ipython3",
   "version": "3.6.8"
  }
 },
 "nbformat": 4,
 "nbformat_minor": 2
}
