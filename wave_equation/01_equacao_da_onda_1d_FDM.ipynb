{
  "nbformat": 4,
  "nbformat_minor": 0,
  "metadata": {
    "colab": {
      "name": "equacao_da_onda_1d.ipynb",
      "provenance": [],
      "collapsed_sections": []
    },
    "kernelspec": {
      "name": "python3",
      "display_name": "Python 3"
    },
    "language_info": {
      "name": "python"
    }
  },
  "cells": [
    {
      "cell_type": "code",
      "metadata": {
        "id": "CL7jmPXi39Dn"
      },
      "source": [
        "import numpy as np\n",
        "import matplotlib.pyplot as plt\n",
        "%matplotlib inline"
      ],
      "execution_count": 1,
      "outputs": []
    },
    {
      "cell_type": "code",
      "metadata": {
        "id": "4926kxeb4aRl"
      },
      "source": [
        ""
      ],
      "execution_count": null,
      "outputs": []
    },
    {
      "cell_type": "markdown",
      "metadata": {
        "id": "bxe8jP4E4qXU"
      },
      "source": [
        "# Equação da Onda 1D - Ondas na Corda\n",
        "\\begin{equation}\n",
        "\\frac{\\partial^2 u}{\\partial t^2} =\n",
        "c^2 \\frac{\\partial^2 u}{\\partial x^2}, \\quad x\\in (0,L),\\ t\\in (0,T]\n",
        "\\tag{1}\n",
        "\\end{equation}\n",
        "\n",
        "\n",
        "\\begin{split}\n",
        "u(x,0) &= I(x), \\quad x\\in [0,L]\n",
        "\\\\\n",
        "\\frac{\\partial}{\\partial t}u(x,0) &= 0, \\quad x\\in [0,L]\n",
        "\\\\\n",
        "u(0,t) & = 0, \\quad  t\\in (0,T],\n",
        "\\\\\n",
        "u(L,t) & = 0, \\quad  t\\in (0,T]\n",
        "\\thinspace .\\end{split}"
      ]
    },
    {
      "cell_type": "code",
      "metadata": {
        "id": "4Ni4S3sN5EhL"
      },
      "source": [
        ""
      ],
      "execution_count": null,
      "outputs": []
    },
    {
      "cell_type": "markdown",
      "metadata": {
        "id": "kYQeSOAO5PQM"
      },
      "source": [
        "## Discretização\n",
        "$$x_i = i\\Delta x,\\quad i=0,\\ldots,N_x,$$\n",
        "$$t_i = n\\Delta t,\\quad n=0,\\ldots,N$$\n",
        "\n",
        "O domínio discretizado $(0,L)\\times (0,T]$ pode se expresso pela malha:\n",
        "\n",
        "$$\\frac{\\partial^2}{\\partial t^2} u(x_i, t_n) =\n",
        "     c^2\\frac{\\partial^2}{\\partial x^2} u(x_i, t_n),$$\n",
        "\n",
        "\n",
        "Aproximamos a derivada temporal por diferenças centradas:\n",
        "\n",
        "$$\\frac{\\partial^2}{\\partial t^2}u(x_i,t_n)\\approx\n",
        "\\frac{u_i^{n+1} - 2u_i^n + u^{n-1}_i}{\\Delta t^2}$$\n",
        "\n",
        "A derivada espacial também é aproximada por diferenças centradas:\n",
        "\n",
        "$$\\frac{\\partial^2}{\\partial x^2}u(x_i,t_n)\\approx\n",
        "\\frac{u_{i+1}^{n} - 2u_i^n + u^{n}_{i-1}}{\\Delta x^2}$$\n",
        "\n",
        "Substituindo em (1) ficamos com:\n",
        "\n",
        "\\begin{equation}\\frac{u_i^{n+1} - 2u_i^n + u^{n-1}_i}{\\Delta t^2} =\n",
        "     c^2\\frac{u_{i+1}^{n} - 2u_i^n + u^{n}_{i-1}}{\\Delta x^2}\n",
        "\\end{equation}\n",
        "\n",
        "Obtemos então a fórmula:\n",
        "\\begin{equation}\n",
        "u^{n+1}_i = -u^{n-1}_i + 2u^n_i + C^2\n",
        "     \\left(u^{n}_{i+1}-2u^{n}_{i} + u^{n}_{i-1}\\right)\n",
        "\\end{equation}\n",
        "onde $C = c\\frac{\\Delta t}{\\Delta x}$ (dimensionless Courant number)\n",
        "\n",
        "\n",
        "\n"
      ]
    },
    {
      "cell_type": "code",
      "metadata": {
        "id": "NP8pm_X3DFtj"
      },
      "source": [
        ""
      ],
      "execution_count": null,
      "outputs": []
    },
    {
      "cell_type": "code",
      "metadata": {
        "id": "QJJzki93DDa9"
      },
      "source": [
        "def solver(I, V, f, c, L, Nx, C, T, user_action=None):\n",
        "    \"\"\"Solve u_tt=c^2*u_xx + f on (0,L)x(0,T].\"\"\"\n",
        "    x = np.linspace(0, L, Nx+1)   # mesh points in space\n",
        "    dx = x[1] - x[0]\n",
        "    dt = C*dx/c\n",
        "    N = int(round(T/dt))\n",
        "    t = np.linspace(0, N*dt, N+1) # mesh points in time\n",
        "    C2 = C**2                  # help variable in the scheme\n",
        "    if f is None or f == 0 :\n",
        "        f = lambda x, t: 0\n",
        "    if V is None or V == 0:\n",
        "        V = lambda x: 0\n",
        "\n",
        "    u   = np.zeros(Nx+1)   # solution array at new time level\n",
        "    u_1 = np.zeros(Nx+1)   # solution at 1 time level back\n",
        "    u_2 = np.zeros(Nx+1)   # solution at 2 time levels back\n",
        "\n",
        "    import time;  t0 = time.clock()  # for measuring CPU time\n",
        "\n",
        "    # Load initial condition into u_1\n",
        "    for i in range(0,Nx+1):\n",
        "        u_1[i] = I(x[i])\n",
        "\n",
        "    if user_action is not None:\n",
        "        user_action(u_1, x, t, 0)\n",
        "\n",
        "    # Special formula for first time step\n",
        "    n = 0\n",
        "    for i in range(1, Nx):\n",
        "        u[i] = u_1[i] + dt*V(x[i]) + \\\n",
        "               0.5*C2*(u_1[i-1] - 2*u_1[i] + u_1[i+1]) + \\\n",
        "               0.5*dt**2*f(x[i], t[n])\n",
        "    u[0] = 0;  u[Nx] = 0\n",
        "\n",
        "    if user_action is not None:\n",
        "        user_action(u, x, t, 1)\n",
        "\n",
        "    u_2[:], u_1[:] = u_1, u\n",
        "\n",
        "    for n in range(1, N):\n",
        "        # Update all inner points at time t[n+1]\n",
        "        for i in range(1, Nx):\n",
        "            u[i] = - u_2[i] + 2*u_1[i] + \\\n",
        "                     C2*(u_1[i-1] - 2*u_1[i] + u_1[i+1]) + \\\n",
        "                     dt**2*f(x[i], t[n])\n",
        "\n",
        "        # Insert boundary conditions\n",
        "        u[0] = 0;  u[Nx] = 0\n",
        "        if user_action is not None:\n",
        "            if user_action(u, x, t, n+1):\n",
        "                break\n",
        "\n",
        "        # Switch variables before next step\n",
        "        u_2[:], u_1[:] = u_1, u\n",
        "\n",
        "    cpu_time = t0 - time.clock()\n",
        "    return u, x, t, cpu_time"
      ],
      "execution_count": null,
      "outputs": []
    }
  ]
}